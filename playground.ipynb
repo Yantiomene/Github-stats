{
 "cells": [
  {
   "cell_type": "markdown",
   "metadata": {},
   "source": [
    "# GITHUB STATS INFO\n",
    "\n",
    "[github api endpoints](https://docs.github.com/en/rest/overview/endpoints-available-for-github-app-installation-access-tokens?apiVersion=2022-11-28#branches)\n",
    "\n",
    "When going through the GitHub page of a potential tech employee, it's important to assess their coding skills, work habits, and overall suitability for your team. \n",
    "\n",
    "1. **Contribution History:** by analyzing the number of \n",
    "   - commits -> `commit frequency`\n",
    "   - pull requests -> `pull request frequency`\n",
    "   - contributions made over time -> `lines of code contributed`\n",
    "\n",
    "2. **Quality of Code:** by using code analysis tools that generate metrics like\n",
    "   - cyclomatic complexity\n",
    "   - code duplication\n",
    "   - code coverage.\n",
    "   These tools can provide quantitative data on code maintainability, readability, and quality.\n",
    "\n",
    "3. ~~**Problem-Solving Skills:** Assessing problem-solving skills statistically can be more challenging. One way is to evaluate the complexity and effectiveness of solutions they've implemented in their code, which can be measured using metrics like algorithmic efficiency.~~\n",
    "\n",
    "4. **Collaboration:** Collaboration can be assessed by looking at the\n",
    " - number of pull requests\n",
    " - issues opened\n",
    " - contributions to other team members' projects.\n",
    "\n",
    "5. **Variety of Projects:** Statistically, can assess this by categorizing their repositories into different project types or technologies and calculating the distribution.\n",
    "\n",
    "6. **Use of Technologies:** Can measure this by identifying the programming languages and technologies they use in their repositories and quantifying their usage. The statistical representation might be in the form of a technology stack distribution.\n",
    "\n",
    "7. **Project Completeness:** A bit more qualitative, but you can assess it by analyzing the commit and update history of their repositories.\n",
    "_Frequent updates, bug fixes, and improvements might indicate a commitment to project completion._\n",
    "\n",
    "8. **Open Source Contributions:** Measure this statistically by evaluating the number and significance of contributions made to well-known open-source projects. The `reputation` and `impact` of these contributions can be quantified.\n",
    "\n",
    "9. ~~**Issue Management:** You can assess their responsiveness statistically by analyzing the time taken to address issues and the percentage of closed issues in their repositories.~~\n",
    "\n",
    "10. **Documentation:** Assess the quality of documentation statistically by looking at the `length, clarity, and completeness of README files`, and potentially analyzing user feedback regarding documentation.\n",
    "\n",
    "11. ~~**Version Control:** Measure this statistically by analyzing their use of Git, such as commit frequency, the number of branches, and the structure of their commit history.~~\n",
    "\n",
    "12. ~~**Learning and Growth:** This may be more challenging to measure statistically but can be inferred from the `update frequency of projects`, the adoption of new technologies, or the addition of new features.~~\n",
    "\n",
    "13. ~~**Coding Style Consistency:** You can measure this statistically by using code analysis tools that check adherence to coding style guides and report inconsistencies.~~\n",
    "\n",
    "14. ~~**Passion and Enthusiasm:** While difficult to measure directly, you can assess passion indirectly through the number and nature of contributions, as well as their engagement in relevant forums or communities.~~\n",
    "\n",
    "15. ~~**Adaptability:** Measuring adaptability statistically might involve looking at the variety of programming languages and frameworks they've used and assessing their proficiency in each based on quantitative criteria.~~\n"
   ]
  },
  {
   "cell_type": "markdown",
   "metadata": {},
   "source": [
    "### IMPORTS"
   ]
  },
  {
   "cell_type": "code",
   "execution_count": 1,
   "metadata": {},
   "outputs": [],
   "source": [
    "import requests\n",
    "from pprint import pprint as pp"
   ]
  },
  {
   "cell_type": "markdown",
   "metadata": {},
   "source": [
    "# USER"
   ]
  },
  {
   "cell_type": "markdown",
   "metadata": {},
   "source": [
    "**PROFILE:**\n",
    "\n",
    "| What to Measure                 | How to Measure It                   | Why It's Important                             |\n",
    "|--------------------------------|-------------------------------------|-------------------------------------------------|\n",
    "| GitHub Username                | Access the user's GitHub profile.  | Identifies the user on the platform.           |\n",
    "| Name and Bio                   | Retrieve the user's name and bio from their profile. | Provides basic personal information.      |\n",
    "| Location and Email             | Check the user's location and email information if provided. | Helps understand their geographic base and contact details. |\n",
    "| Public Activity                | Examine the user's recent public activity, including starred repositories and followed users. | Shows current interests and engagements. |\n",
    "| Follower and Following Count   | Count the number of followers and accounts they are following on GitHub. | Indicates their level of engagement with the community. |\n",
    "| Organizations                  | Identify the organizations the user is a member of or has contributed to. | Shows affiliations and professional associations. |\n",
    "| Public Repositories            | Count the number of public repositories owned by the user. | Indicates their coding projects and open-source contributions. |\n",
    "| Contribution Graph             | Analyze the user's GitHub contribution graph to see their recent activity. | Provides an overview of their coding activity over time. |\n"
   ]
  },
  {
   "cell_type": "code",
   "execution_count": 2,
   "metadata": {},
   "outputs": [],
   "source": [
    "USER_BASE_URL = 'https://api.github.com/users/'"
   ]
  },
  {
   "cell_type": "code",
   "execution_count": 32,
   "metadata": {},
   "outputs": [],
   "source": [
    "esmond = 'esmond-adjei'\n",
    "yant = 'Yantiomene'\n",
    "user_response = requests.get(USER_BASE_URL + yant)\n"
   ]
  },
  {
   "cell_type": "code",
   "execution_count": 33,
   "metadata": {},
   "outputs": [
    {
     "name": "stdout",
     "output_type": "stream",
     "text": [
      "{'avatar_url': 'https://avatars.githubusercontent.com/u/49885974?v=4',\n",
      " 'bio': 'Passionate about software engineering and telling stories with data',\n",
      " 'blog': 'Data Analysis, Data Science, Data Engineering, Software Engineering',\n",
      " 'company': 'Keecash',\n",
      " 'created_at': '2019-04-22T22:31:59Z',\n",
      " 'email': None,\n",
      " 'events_url': 'https://api.github.com/users/Yantiomene/events{/privacy}',\n",
      " 'followers': 0,\n",
      " 'followers_url': 'https://api.github.com/users/Yantiomene/followers',\n",
      " 'following': 2,\n",
      " 'following_url': 'https://api.github.com/users/Yantiomene/following{/other_user}',\n",
      " 'gists_url': 'https://api.github.com/users/Yantiomene/gists{/gist_id}',\n",
      " 'gravatar_id': '',\n",
      " 'hireable': None,\n",
      " 'html_url': 'https://github.com/Yantiomene',\n",
      " 'id': 49885974,\n",
      " 'location': 'Yaounde ',\n",
      " 'login': 'Yantiomene',\n",
      " 'name': 'Yaninthé Tiomene',\n",
      " 'node_id': 'MDQ6VXNlcjQ5ODg1OTc0',\n",
      " 'organizations_url': 'https://api.github.com/users/Yantiomene/orgs',\n",
      " 'public_gists': 0,\n",
      " 'public_repos': 37,\n",
      " 'received_events_url': 'https://api.github.com/users/Yantiomene/received_events',\n",
      " 'repos_url': 'https://api.github.com/users/Yantiomene/repos',\n",
      " 'site_admin': False,\n",
      " 'starred_url': 'https://api.github.com/users/Yantiomene/starred{/owner}{/repo}',\n",
      " 'subscriptions_url': 'https://api.github.com/users/Yantiomene/subscriptions',\n",
      " 'twitter_username': 'YanTiomene',\n",
      " 'type': 'User',\n",
      " 'updated_at': '2023-10-20T23:47:46Z',\n",
      " 'url': 'https://api.github.com/users/Yantiomene'}\n"
     ]
    }
   ],
   "source": [
    "pp(user_response.json())"
   ]
  },
  {
   "cell_type": "markdown",
   "metadata": {},
   "source": [
    "# ACTIVITIES"
   ]
  },
  {
   "cell_type": "markdown",
   "metadata": {},
   "source": [
    "Ananlysis of the users' activities will provide insights into the users' behavior in terms of the following:\n",
    "- frequency of commits\n",
    "- frequency of issues\n",
    "- frequency of pull requests\n",
    "\n",
    "- community involvement\n",
    "- project engagement\n",
    "\n",
    "| What to Measure                 | How to Measure It                   | Why It's Important                             |\n",
    "|--------------------------------|-------------------------------------|-------------------------------------------------|\n",
    "| Contribution History           | Analyze the number of commits, pull requests, issues created, and issues commented on. Measure activity over time. | Assesses their ongoing contributions and commitment to coding. |\n",
    "| Collaboration                  | Count the number of pull requests and issues opened. Analyze the number of contributions to other repositories. Measure response times in issues and pull requests. | Reflects their ability to collaborate and engage with the community. |\n",
    "| Issue Management               | Measure time-to-close for issues. Calculate issue closure rates. | Evaluates their efficiency and responsiveness in issue handling. |"
   ]
  },
  {
   "cell_type": "code",
   "execution_count": 5,
   "metadata": {},
   "outputs": [],
   "source": [
    "user_activity = requests.get(USER_BASE_URL + esmond + '/events')"
   ]
  },
  {
   "cell_type": "code",
   "execution_count": 6,
   "metadata": {},
   "outputs": [
    {
     "name": "stdout",
     "output_type": "stream",
     "text": [
      "30\n"
     ]
    }
   ],
   "source": [
    "pp(len(user_activity.json()))"
   ]
  },
  {
   "cell_type": "markdown",
   "metadata": {},
   "source": [
    "response is a list of dictionaries with following keys:\n",
    "```python\n",
    "for event in user_activity.json():\n",
    "    print(event.keys())\n",
    "\n",
    "# [ \n",
    "#  'id'::number_str,\n",
    "#  'type'::str,\n",
    "#  'actor'::dict,\n",
    "#  'repo'::dict,\n",
    "#  'payload'::dict,\n",
    "#  'public'::bool,\n",
    "#  'created_at'::date_str,\n",
    "#  'org'::dict\n",
    "# ]\n",
    "```"
   ]
  },
  {
   "cell_type": "code",
   "execution_count": 10,
   "metadata": {},
   "outputs": [
    {
     "name": "stdout",
     "output_type": "stream",
     "text": [
      "{'actor': {'avatar_url': 'https://avatars.githubusercontent.com/u/81225469?',\n",
      "           'display_login': 'esmond-adjei',\n",
      "           'gravatar_id': '',\n",
      "           'id': 81225469,\n",
      "           'login': 'esmond-adjei',\n",
      "           'url': 'https://api.github.com/users/esmond-adjei'},\n",
      " 'created_at': '2023-10-23T22:15:04Z',\n",
      " 'id': '32786398193',\n",
      " 'payload': {'action': 'started'},\n",
      " 'public': True,\n",
      " 'repo': {'id': 705795945,\n",
      "          'name': 'esmond-adjei/forage-lyft-starter-repo',\n",
      "          'url': 'https://api.github.com/repos/esmond-adjei/forage-lyft-starter-repo'},\n",
      " 'type': 'WatchEvent'}\n"
     ]
    }
   ],
   "source": [
    "pp(user_activity.json()[0])"
   ]
  },
  {
   "cell_type": "markdown",
   "metadata": {},
   "source": [
    "# REPOSITORIES"
   ]
  },
  {
   "cell_type": "markdown",
   "metadata": {},
   "source": [
    "This analysis provides insights into the repositories of a user, shedding light on the user's interests and skills.\n",
    "\n",
    "**General**\n",
    "- total number of repositories\n",
    "- total number of forks\n",
    "- total number of stars\n",
    "\n",
    "**Specifics**\n",
    "- programming language distribution\n",
    "- analysis of project topics (e.g. web, desktop, mobile, software engineering, ai/ml, etc.)\n",
    "\n",
    "**PROJECTS:**\n",
    "\n",
    "| What to Measure                 | How to Measure It                   | Why It's Important                             |\n",
    "|--------------------------------|-------------------------------------|-------------------------------------------------|\n",
    "| Quality of Code                | Use code analysis tools to assess code complexity, duplication, and code coverage. Analyze commit messages for meaningful content. | Ensures the quality and maintainability of their code. |\n",
    "| Variety of Projects            | Categorize repositories by project type or technology. Quantify the number of different categories. | Shows their ability to work on diverse projects and technologies. |\n",
    "| Project Completeness           | Analyze commit history for regular updates, bug fixes, and completion of projects. | Reflects their commitment to project completion and maintenance. |\n",
    "| Documentation                  | Examine README files for length, clarity, and completeness. Perform a quantitative analysis of documentation quality. | Demonstrates their ability to provide clear project documentation. |\n",
    "| Version Control                | Measure commit frequency, analyze branching strategy, and assess the cleanliness of the commit history. | Shows their ability to maintain version control and work in a team. |\n",
    "| Coding Style Consistency       | Evaluate adherence to coding style guides using linters. Analyze code style deviations. | Ensures consistency in code style and adherence to coding standards. |\n"
   ]
  },
  {
   "cell_type": "code",
   "execution_count": 11,
   "metadata": {},
   "outputs": [],
   "source": [
    "repo_response = requests.get(USER_BASE_URL + esmond + '/repos') # len = 30"
   ]
  },
  {
   "cell_type": "code",
   "execution_count": null,
   "metadata": {},
   "outputs": [],
   "source": [
    "# get length and keys of repo data\n",
    "repo_data_keys = list(repo_response.json()[0].keys()) # len = 79\n",
    "pp(repo_data_keys)\n",
    "print('Total number of keys:', len(repo_data_keys))"
   ]
  },
  {
   "cell_type": "markdown",
   "metadata": {},
   "source": [
    "**Basic Information:**\n",
    "`id`, `node_id`, `name`, `full_name`, `private`, `owner`, `html_url`, `description`, `fork`, `url`, `forks_url`, `keys_url`, `collaborators_url`, `teams_url`, `hooks_url`, `issue_events_url`, `events_url`, `assignees_url`, `branches_url`, `tags_url`, `blobs_url`, `git_tags_url`, `git_refs_url`, `trees_url`, `statuses_url`, `languages_url`\n",
    "\n",
    "**Dates and Timestamps:**\n",
    "`created_at`, `updated_at`, `pushed_at`\n",
    "\n",
    "**Access URLs:**\n",
    "`git_url`, `ssh_url`, `clone_url`, `svn_url`\n",
    "\n",
    "**Branches and Tags:**\n",
    "`default_branch`\n",
    "\n",
    "**Collaboration and Contributors:**\n",
    "`collaborators_url`, `teams_url`, `hooks_url`, `assignees_url`, `subscribers_url`, `contributors_url`\n",
    "\n",
    "**Events and Activities:**\n",
    "`issue_events_url`, `events_url`, `commits_url`, `git_commits_url`, `comments_url`, `issue_comment_url`\n",
    "\n",
    "**Source Code and Contents:**\n",
    "`blobs_url`, `contents_url`, `compare_url`, `merges_url`, `archive_url`, `downloads_url`, `contents_url`\n",
    "\n",
    "**Repository Statistics:**\n",
    "`size`, `stargazers_count`, `watchers_count`, `forks_count`, `open_issues_count`\n",
    "\n",
    "**Features and Settings:**\n",
    "`has_issues`, `has_projects`, `has_downloads`, `has_wiki`, `has_pages`, `has_discussions`, `mirror_url`, `archived`, `disabled`, `allow_forking`, `is_template`, `web_commit_signoff_required`, `visibility`\n",
    "\n",
    "**License Information:**\n",
    "`license`\n",
    "\n",
    "**Topics:**\n",
    "`topics`\n"
   ]
  },
  {
   "cell_type": "code",
   "execution_count": 39,
   "metadata": {},
   "outputs": [
    {
     "name": "stdout",
     "output_type": "stream",
     "text": [
      "{'allow_forking': True,\n",
      " 'archive_url': 'https://api.github.com/repos/esmond-adjei/AirBnB_clone/{archive_format}{/ref}',\n",
      " 'archived': False,\n",
      " 'assignees_url': 'https://api.github.com/repos/esmond-adjei/AirBnB_clone/assignees{/user}',\n",
      " 'blobs_url': 'https://api.github.com/repos/esmond-adjei/AirBnB_clone/git/blobs{/sha}',\n",
      " 'branches_url': 'https://api.github.com/repos/esmond-adjei/AirBnB_clone/branches{/branch}',\n",
      " 'clone_url': 'https://github.com/esmond-adjei/AirBnB_clone.git',\n",
      " 'collaborators_url': 'https://api.github.com/repos/esmond-adjei/AirBnB_clone/collaborators{/collaborator}',\n",
      " 'comments_url': 'https://api.github.com/repos/esmond-adjei/AirBnB_clone/comments{/number}',\n",
      " 'commits_url': 'https://api.github.com/repos/esmond-adjei/AirBnB_clone/commits{/sha}',\n",
      " 'compare_url': 'https://api.github.com/repos/esmond-adjei/AirBnB_clone/compare/{base}...{head}',\n",
      " 'contents_url': 'https://api.github.com/repos/esmond-adjei/AirBnB_clone/contents/{+path}',\n",
      " 'contributors_url': 'https://api.github.com/repos/esmond-adjei/AirBnB_clone/contributors',\n",
      " 'created_at': '2023-05-09T17:15:55Z',\n",
      " 'default_branch': 'main',\n",
      " 'deployments_url': 'https://api.github.com/repos/esmond-adjei/AirBnB_clone/deployments',\n",
      " 'description': None,\n",
      " 'disabled': False,\n",
      " 'downloads_url': 'https://api.github.com/repos/esmond-adjei/AirBnB_clone/downloads',\n",
      " 'events_url': 'https://api.github.com/repos/esmond-adjei/AirBnB_clone/events',\n",
      " 'fork': False,\n",
      " 'forks': 1,\n",
      " 'forks_count': 1,\n",
      " 'forks_url': 'https://api.github.com/repos/esmond-adjei/AirBnB_clone/forks',\n",
      " 'full_name': 'esmond-adjei/AirBnB_clone',\n",
      " 'git_commits_url': 'https://api.github.com/repos/esmond-adjei/AirBnB_clone/git/commits{/sha}',\n",
      " 'git_refs_url': 'https://api.github.com/repos/esmond-adjei/AirBnB_clone/git/refs{/sha}',\n",
      " 'git_tags_url': 'https://api.github.com/repos/esmond-adjei/AirBnB_clone/git/tags{/sha}',\n",
      " 'git_url': 'git://github.com/esmond-adjei/AirBnB_clone.git',\n",
      " 'has_discussions': False,\n",
      " 'has_downloads': True,\n",
      " 'has_issues': True,\n",
      " 'has_pages': False,\n",
      " 'has_projects': True,\n",
      " 'has_wiki': True,\n",
      " 'homepage': None,\n",
      " 'hooks_url': 'https://api.github.com/repos/esmond-adjei/AirBnB_clone/hooks',\n",
      " 'html_url': 'https://github.com/esmond-adjei/AirBnB_clone',\n",
      " 'id': 638591304,\n",
      " 'is_template': False,\n",
      " 'issue_comment_url': 'https://api.github.com/repos/esmond-adjei/AirBnB_clone/issues/comments{/number}',\n",
      " 'issue_events_url': 'https://api.github.com/repos/esmond-adjei/AirBnB_clone/issues/events{/number}',\n",
      " 'issues_url': 'https://api.github.com/repos/esmond-adjei/AirBnB_clone/issues{/number}',\n",
      " 'keys_url': 'https://api.github.com/repos/esmond-adjei/AirBnB_clone/keys{/key_id}',\n",
      " 'labels_url': 'https://api.github.com/repos/esmond-adjei/AirBnB_clone/labels{/name}',\n",
      " 'language': 'Python',\n",
      " 'languages_url': 'https://api.github.com/repos/esmond-adjei/AirBnB_clone/languages',\n",
      " 'license': None,\n",
      " 'merges_url': 'https://api.github.com/repos/esmond-adjei/AirBnB_clone/merges',\n",
      " 'milestones_url': 'https://api.github.com/repos/esmond-adjei/AirBnB_clone/milestones{/number}',\n",
      " 'mirror_url': None,\n",
      " 'name': 'AirBnB_clone',\n",
      " 'node_id': 'R_kgDOJhAhSA',\n",
      " 'notifications_url': 'https://api.github.com/repos/esmond-adjei/AirBnB_clone/notifications{?since,all,participating}',\n",
      " 'open_issues': 0,\n",
      " 'open_issues_count': 0,\n",
      " 'owner': {'avatar_url': 'https://avatars.githubusercontent.com/u/81225469?v=4',\n",
      "           'events_url': 'https://api.github.com/users/esmond-adjei/events{/privacy}',\n",
      "           'followers_url': 'https://api.github.com/users/esmond-adjei/followers',\n",
      "           'following_url': 'https://api.github.com/users/esmond-adjei/following{/other_user}',\n",
      "           'gists_url': 'https://api.github.com/users/esmond-adjei/gists{/gist_id}',\n",
      "           'gravatar_id': '',\n",
      "           'html_url': 'https://github.com/esmond-adjei',\n",
      "           'id': 81225469,\n",
      "           'login': 'esmond-adjei',\n",
      "           'node_id': 'MDQ6VXNlcjgxMjI1NDY5',\n",
      "           'organizations_url': 'https://api.github.com/users/esmond-adjei/orgs',\n",
      "           'received_events_url': 'https://api.github.com/users/esmond-adjei/received_events',\n",
      "           'repos_url': 'https://api.github.com/users/esmond-adjei/repos',\n",
      "           'site_admin': False,\n",
      "           'starred_url': 'https://api.github.com/users/esmond-adjei/starred{/owner}{/repo}',\n",
      "           'subscriptions_url': 'https://api.github.com/users/esmond-adjei/subscriptions',\n",
      "           'type': 'User',\n",
      "           'url': 'https://api.github.com/users/esmond-adjei'},\n",
      " 'private': False,\n",
      " 'pulls_url': 'https://api.github.com/repos/esmond-adjei/AirBnB_clone/pulls{/number}',\n",
      " 'pushed_at': '2023-05-21T23:47:30Z',\n",
      " 'releases_url': 'https://api.github.com/repos/esmond-adjei/AirBnB_clone/releases{/id}',\n",
      " 'size': 164,\n",
      " 'ssh_url': 'git@github.com:esmond-adjei/AirBnB_clone.git',\n",
      " 'stargazers_count': 0,\n",
      " 'stargazers_url': 'https://api.github.com/repos/esmond-adjei/AirBnB_clone/stargazers',\n",
      " 'statuses_url': 'https://api.github.com/repos/esmond-adjei/AirBnB_clone/statuses/{sha}',\n",
      " 'subscribers_url': 'https://api.github.com/repos/esmond-adjei/AirBnB_clone/subscribers',\n",
      " 'subscription_url': 'https://api.github.com/repos/esmond-adjei/AirBnB_clone/subscription',\n",
      " 'svn_url': 'https://github.com/esmond-adjei/AirBnB_clone',\n",
      " 'tags_url': 'https://api.github.com/repos/esmond-adjei/AirBnB_clone/tags',\n",
      " 'teams_url': 'https://api.github.com/repos/esmond-adjei/AirBnB_clone/teams',\n",
      " 'topics': [],\n",
      " 'trees_url': 'https://api.github.com/repos/esmond-adjei/AirBnB_clone/git/trees{/sha}',\n",
      " 'updated_at': '2023-05-09T17:51:05Z',\n",
      " 'url': 'https://api.github.com/repos/esmond-adjei/AirBnB_clone',\n",
      " 'visibility': 'public',\n",
      " 'watchers': 0,\n",
      " 'watchers_count': 0,\n",
      " 'web_commit_signoff_required': False}\n"
     ]
    }
   ],
   "source": [
    "pp(repo_response.json()[0])"
   ]
  },
  {
   "cell_type": "code",
   "execution_count": 44,
   "metadata": {},
   "outputs": [
    {
     "name": "stdout",
     "output_type": "stream",
     "text": [
      "0 AirBnB_clone Python\n",
      "1 AirBnB_clone_v2 Python\n",
      "2 AirBnB_clone_v3 Python\n",
      "3 AirBnB_clone_v4 Python\n",
      "4 alx-higher_level_programming Python\n",
      "5 alx-low_level_programming C\n",
      "6 alx-pre_course None\n",
      "7 alx-system_engineering-devops Shell\n",
      "8 alx-zero_day Shell\n",
      "9 Bank-Administration-App Python\n",
      "10 binary_trees C\n",
      "11 coding-workout Python\n",
      "12 command_line_for_the_win None\n",
      "13 django-todo-app Python\n",
      "14 esmond-adjei None\n",
      "15 Fix_My_Code_Challenge JavaScript\n",
      "16 forage-jpmc-swe-task-1 None\n",
      "17 forage-lyft-starter-repo Python\n",
      "18 hnh-accommodation JavaScript\n",
      "19 hnh-backend Python\n",
      "20 linux-stuff Shell\n",
      "21 mit-deep-learning-lex-fridman None\n",
      "22 monty C\n",
      "23 online-web-scraper JavaScript\n",
      "24 pharmacy-shop Python\n",
      "25 portfolio-website JavaScript\n",
      "26 printf C\n",
      "27 python-fun-from-patrickloeber None\n",
      "28 qr-code-ticket-system None\n",
      "29 react-calculator CSS\n"
     ]
    }
   ],
   "source": [
    "# all projects by the user\n",
    "for i, repo in enumerate(repo_response.json()):\n",
    "    print(i, repo['name'], requests.get(repo['url']).json()['language'])"
   ]
  },
  {
   "cell_type": "code",
   "execution_count": 43,
   "metadata": {},
   "outputs": [
    {
     "name": "stdout",
     "output_type": "stream",
     "text": [
      "{'Python': 60336, 'HTML': 19352, 'CSS': 8819}\n"
     ]
    }
   ],
   "source": [
    "# project languages\n",
    "repo_languages = requests.get(repo_response.json()[0]['languages_url'])\n",
    "print(repo_languages.json())"
   ]
  },
  {
   "cell_type": "markdown",
   "metadata": {},
   "source": [
    "# INTERESTS\n",
    "\n",
    "| What to Measure                 | How to Measure It                   | Why It's Important                             |\n",
    "|--------------------------------|-------------------------------------|-------------------------------------------------|\n",
    "| Problem-Solving Skills         | Assess the complexity and effectiveness of solutions implemented in their code. Analyze code changes related to problem-solving tasks. | Indicates their ability to solve coding challenges effectively. |\n",
    "| Use of Technologies            | Analyze the programming languages and frameworks used in repositories. Quantify technology usage based on commits and file types. | Reflects their proficiency in different technologies and stacks. |\n",
    "| Learning and Growth            | Analyze repositories for updates, technology changes, and the addition of new features or improvements. | Demonstrates their adaptability and commitment to growth. |\n",
    "| Adaptability                   | Analyze the variety of programming languages and frameworks used in repositories. Quantify proficiency in each technology. | Reflects their ability to adapt to different tech stacks and learn new skills. |"
   ]
  }
 ],
 "metadata": {
  "kernelspec": {
   "display_name": "Python 3",
   "language": "python",
   "name": "python3"
  },
  "language_info": {
   "codemirror_mode": {
    "name": "ipython",
    "version": 3
   },
   "file_extension": ".py",
   "mimetype": "text/x-python",
   "name": "python",
   "nbconvert_exporter": "python",
   "pygments_lexer": "ipython3",
   "version": "3.12.0"
  }
 },
 "nbformat": 4,
 "nbformat_minor": 2
}
