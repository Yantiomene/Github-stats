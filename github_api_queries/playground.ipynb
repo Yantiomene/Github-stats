{
 "cells": [
  {
   "cell_type": "markdown",
   "metadata": {},
   "source": [
    "# GITHUB STATS INFO\n",
    "\n",
    "[github api endpoints](https://docs.github.com/en/rest/overview/endpoints-available-for-github-app-installation-access-tokens?apiVersion=2022-11-28#branches)\n",
    "\n",
    "When going through the GitHub page of a potential tech employee, it's important to assess their coding skills, work habits, and overall suitability for your team. \n",
    "\n",
    "1. **Contribution History:** by analyzing the number of \n",
    "   - commits -> `commit frequency`\n",
    "   - pull requests -> `pull request frequency`\n",
    "   - contributions made over time -> `lines of code contributed`\n",
    "\n",
    "2. **Quality of Code:** by using code analysis tools that generate metrics like\n",
    "   - cyclomatic complexity\n",
    "   - code duplication\n",
    "   - code coverage.\n",
    "   These tools can provide quantitative data on code maintainability, readability, and quality.\n",
    "\n",
    "3. ~~**Problem-Solving Skills:** Assessing problem-solving skills statistically can be more challenging. One way is to evaluate the complexity and effectiveness of solutions they've implemented in their code, which can be measured using metrics like algorithmic efficiency.~~\n",
    "\n",
    "4. **Collaboration:** Collaboration can be assessed by looking at the\n",
    " - number of pull requests\n",
    " - issues opened\n",
    " - contributions to other team members' projects.\n",
    "\n",
    "5. **Variety of Projects:** Statistically, can assess this by categorizing their repositories into different project types or technologies and calculating the distribution.\n",
    "\n",
    "6. **Use of Technologies:** Can measure this by identifying the programming languages and technologies they use in their repositories and quantifying their usage. The statistical representation might be in the form of a technology stack distribution.\n",
    "\n",
    "7. **Project Completeness:** A bit more qualitative, but you can assess it by analyzing the commit and update history of their repositories.\n",
    "_Frequent updates, bug fixes, and improvements might indicate a commitment to project completion._\n",
    "\n",
    "8. **Open Source Contributions:** Measure this statistically by evaluating the number and significance of contributions made to well-known open-source projects. The `reputation` and `impact` of these contributions can be quantified.\n",
    "\n",
    "9. ~~**Issue Management:** You can assess their responsiveness statistically by analyzing the time taken to address issues and the percentage of closed issues in their repositories.~~\n",
    "\n",
    "10. **Documentation:** Assess the quality of documentation statistically by looking at the `length, clarity, and completeness of README files`, and potentially analyzing user feedback regarding documentation.\n",
    "\n",
    "11. ~~**Version Control:** Measure this statistically by analyzing their use of Git, such as commit frequency, the number of branches, and the structure of their commit history.~~\n",
    "\n",
    "12. ~~**Learning and Growth:** This may be more challenging to measure statistically but can be inferred from the `update frequency of projects`, the adoption of new technologies, or the addition of new features.~~\n",
    "\n",
    "13. ~~**Coding Style Consistency:** You can measure this statistically by using code analysis tools that check adherence to coding style guides and report inconsistencies.~~\n",
    "\n",
    "14. ~~**Passion and Enthusiasm:** While difficult to measure directly, you can assess passion indirectly through the number and nature of contributions, as well as their engagement in relevant forums or communities.~~\n",
    "\n",
    "15. ~~**Adaptability:** Measuring adaptability statistically might involve looking at the variety of programming languages and frameworks they've used and assessing their proficiency in each based on quantitative criteria.~~\n"
   ]
  },
  {
   "cell_type": "markdown",
   "metadata": {},
   "source": [
    "### IMPORTS"
   ]
  },
  {
   "cell_type": "code",
   "execution_count": 45,
   "metadata": {},
   "outputs": [],
   "source": [
    "import requests\n",
    "from pprint import pprint as pp\n",
    "from tabulate import tabulate\n",
    "from datetime import datetime"
   ]
  },
  {
   "cell_type": "markdown",
   "metadata": {},
   "source": [
    "# USER"
   ]
  },
  {
   "cell_type": "markdown",
   "metadata": {},
   "source": [
    "**PROFILE:**\n",
    "\n",
    "| What to Measure                 | How to Measure It                   | Why It's Important                             |\n",
    "|--------------------------------|-------------------------------------|-------------------------------------------------|\n",
    "| GitHub Username                | Access the user's GitHub profile.  | Identifies the user on the platform.           |\n",
    "| Name and Bio                   | Retrieve the user's name and bio from their profile. | Provides basic personal information.      |\n",
    "| Location and Email             | Check the user's location and email information if provided. | Helps understand their geographic base and contact details. |\n",
    "| Public Activity                | Examine the user's recent public activity, including starred repositories and followed users. | Shows current interests and engagements. |\n",
    "| Follower and Following Count   | Count the number of followers and accounts they are following on GitHub. | Indicates their level of engagement with the community. |\n",
    "| Organizations                  | Identify the organizations the user is a member of or has contributed to. | Shows affiliations and professional associations. |\n",
    "| Public Repositories            | Count the number of public repositories owned by the user. | Indicates their coding projects and open-source contributions. |\n",
    "| Contribution Graph             | Analyze the user's GitHub contribution graph to see their recent activity. | Provides an overview of their coding activity over time. |\n"
   ]
  },
  {
   "cell_type": "code",
   "execution_count": 46,
   "metadata": {},
   "outputs": [],
   "source": [
    "USER_BASE_URL = 'https://api.github.com/users'\n",
    "headers = None"
   ]
  },
  {
   "cell_type": "code",
   "execution_count": 47,
   "metadata": {},
   "outputs": [],
   "source": [
    "# 'Yantiomene'\n",
    "username = 'esmond-adjei'\n",
    "user_response = requests.get(f'{USER_BASE_URL}/{username}', headers=headers)"
   ]
  },
  {
   "cell_type": "code",
   "execution_count": 48,
   "metadata": {},
   "outputs": [
    {
     "name": "stdout",
     "output_type": "stream",
     "text": [
      "{'avatar_url': 'https://avatars.githubusercontent.com/u/81225469?v=4',\n",
      " 'bio': 'A student at KNUST, Kumasi and ALX. Interested in Python, Software '\n",
      "        'Engineering, Data Analysis, Algorithms and Machine Learning. Learner '\n",
      "        'at ALX',\n",
      " 'blog': 'esmond.vercel.app',\n",
      " 'company': None,\n",
      " 'created_at': '2021-03-23T09:14:11Z',\n",
      " 'email': None,\n",
      " 'events_url': 'https://api.github.com/users/esmond-adjei/events{/privacy}',\n",
      " 'followers': 6,\n",
      " 'followers_url': 'https://api.github.com/users/esmond-adjei/followers',\n",
      " 'following': 12,\n",
      " 'following_url': 'https://api.github.com/users/esmond-adjei/following{/other_user}',\n",
      " 'gists_url': 'https://api.github.com/users/esmond-adjei/gists{/gist_id}',\n",
      " 'gravatar_id': '',\n",
      " 'hireable': None,\n",
      " 'html_url': 'https://github.com/esmond-adjei',\n",
      " 'id': 81225469,\n",
      " 'location': 'Ghana',\n",
      " 'login': 'esmond-adjei',\n",
      " 'name': 'Esmond Adjei',\n",
      " 'node_id': 'MDQ6VXNlcjgxMjI1NDY5',\n",
      " 'organizations_url': 'https://api.github.com/users/esmond-adjei/orgs',\n",
      " 'public_gists': 0,\n",
      " 'public_repos': 41,\n",
      " 'received_events_url': 'https://api.github.com/users/esmond-adjei/received_events',\n",
      " 'repos_url': 'https://api.github.com/users/esmond-adjei/repos',\n",
      " 'site_admin': False,\n",
      " 'starred_url': 'https://api.github.com/users/esmond-adjei/starred{/owner}{/repo}',\n",
      " 'subscriptions_url': 'https://api.github.com/users/esmond-adjei/subscriptions',\n",
      " 'twitter_username': 'x_adjei',\n",
      " 'type': 'User',\n",
      " 'updated_at': '2023-10-18T14:08:11Z',\n",
      " 'url': 'https://api.github.com/users/esmond-adjei'}\n"
     ]
    }
   ],
   "source": [
    "pp(user_response.json())"
   ]
  },
  {
   "cell_type": "markdown",
   "metadata": {},
   "source": [
    "# ACTIVITIES"
   ]
  },
  {
   "cell_type": "markdown",
   "metadata": {},
   "source": [
    "Ananlysis of the users' activities will provide insights into the users' behavior in terms of the following:\n",
    "- frequency of commits\n",
    "- frequency of issues\n",
    "- frequency of pull requests\n",
    "\n",
    "- community involvement\n",
    "- project engagement\n",
    "\n",
    "| What to Measure                 | How to Measure It                   | Why It's Important                             |\n",
    "|--------------------------------|-------------------------------------|-------------------------------------------------|\n",
    "| Contribution History           | Analyze the number of commits, pull requests, issues created, and issues commented on. Measure activity over time. | Assesses their ongoing contributions and commitment to coding. |\n",
    "| Collaboration                  | Count the number of pull requests and issues opened. Analyze the number of contributions to other repositories. Measure response times in issues and pull requests. | Reflects their ability to collaborate and engage with the community. |\n",
    "| Issue Management               | Measure time-to-close for issues. Calculate issue closure rates. | Evaluates their efficiency and responsiveness in issue handling. |"
   ]
  },
  {
   "cell_type": "code",
   "execution_count": 49,
   "metadata": {},
   "outputs": [],
   "source": [
    "user_activity = requests.get(f'{USER_BASE_URL}/{username}/events', headers=headers)"
   ]
  },
  {
   "cell_type": "code",
   "execution_count": 50,
   "metadata": {},
   "outputs": [
    {
     "name": "stdout",
     "output_type": "stream",
     "text": [
      "30\n"
     ]
    }
   ],
   "source": [
    "pp(len(user_activity.json()))"
   ]
  },
  {
   "cell_type": "markdown",
   "metadata": {},
   "source": [
    "response is a list of dictionaries with following keys:\n",
    "```python\n",
    "for event in user_activity.json():\n",
    "    print(event.keys())\n",
    "\n",
    "# [ \n",
    "#  'id'::number_str,\n",
    "#  'type'::str,\n",
    "#  'actor'::dict,\n",
    "#  'repo'::dict,\n",
    "#  'payload'::dict,\n",
    "#  'public'::bool,\n",
    "#  'created_at'::date_str,\n",
    "#  'org'::dict\n",
    "# ]\n",
    "```"
   ]
  },
  {
   "cell_type": "code",
   "execution_count": 51,
   "metadata": {},
   "outputs": [
    {
     "name": "stdout",
     "output_type": "stream",
     "text": [
      "{'actor': {'avatar_url': 'https://avatars.githubusercontent.com/u/81225469?',\n",
      "           'display_login': 'esmond-adjei',\n",
      "           'gravatar_id': '',\n",
      "           'id': 81225469,\n",
      "           'login': 'esmond-adjei',\n",
      "           'url': 'https://api.github.com/users/esmond-adjei'},\n",
      " 'created_at': '2023-10-24T18:15:06Z',\n",
      " 'id': '32812541272',\n",
      " 'payload': {'before': 'de776c027678e8e39b4473c66f168877a0809d9d',\n",
      "             'commits': [{'author': {'email': 'xmongram@gmail.com',\n",
      "                                     'name': 'Esmond Adjei'},\n",
      "                          'distinct': True,\n",
      "                          'message': '\\tmodified:   playground.ipynb',\n",
      "                          'sha': 'dda5359ba4adb067969518f1352ce38a5bdb26a8',\n",
      "                          'url': 'https://api.github.com/repos/Yantiomene/Github-stats/commits/dda5359ba4adb067969518f1352ce38a5bdb26a8'}],\n",
      "             'distinct_size': 1,\n",
      "             'head': 'dda5359ba4adb067969518f1352ce38a5bdb26a8',\n",
      "             'push_id': 15548694864,\n",
      "             'ref': 'refs/heads/github_query',\n",
      "             'repository_id': 708092807,\n",
      "             'size': 1},\n",
      " 'public': True,\n",
      " 'repo': {'id': 708092807,\n",
      "          'name': 'Yantiomene/Github-stats',\n",
      "          'url': 'https://api.github.com/repos/Yantiomene/Github-stats'},\n",
      " 'type': 'PushEvent'}\n"
     ]
    }
   ],
   "source": [
    "pp(user_activity.json()[0])"
   ]
  },
  {
   "cell_type": "markdown",
   "metadata": {},
   "source": [
    "# REPOSITORIES"
   ]
  },
  {
   "cell_type": "markdown",
   "metadata": {},
   "source": [
    "This analysis provides insights into the repositories of a user, shedding light on the user's interests and skills.\n",
    "\n",
    "**General**\n",
    "- total number of repositories\n",
    "- total number of forks\n",
    "- total number of stars\n",
    "\n",
    "**Specifics**\n",
    "- programming language distribution\n",
    "- analysis of project topics (e.g. web, desktop, mobile, software engineering, ai/ml, etc.)\n",
    "\n",
    "**PROJECTS:**\n",
    "\n",
    "| What to Measure                 | How to Measure It                   | Why It's Important                             |\n",
    "|--------------------------------|-------------------------------------|-------------------------------------------------|\n",
    "| Quality of Code                | Use code analysis tools to assess code complexity, duplication, and code coverage. Analyze commit messages for meaningful content. | Ensures the quality and maintainability of their code. |\n",
    "| Variety of Projects            | Categorize repositories by project type or technology. Quantify the number of different categories. | Shows their ability to work on diverse projects and technologies. |\n",
    "| Project Completeness           | Analyze commit history for regular updates, bug fixes, and completion of projects. | Reflects their commitment to project completion and maintenance. |\n",
    "| Documentation                  | Examine README files for length, clarity, and completeness. Perform a quantitative analysis of documentation quality. | Demonstrates their ability to provide clear project documentation. |\n",
    "| Version Control                | Measure commit frequency, analyze branching strategy, and assess the cleanliness of the commit history. | Shows their ability to maintain version control and work in a team. |\n",
    "| Coding Style Consistency       | Evaluate adherence to coding style guides using linters. Analyze code style deviations. | Ensures consistency in code style and adherence to coding standards. |\n"
   ]
  },
  {
   "cell_type": "code",
   "execution_count": 52,
   "metadata": {},
   "outputs": [],
   "source": [
    "repo_response = requests.get(f'{USER_BASE_URL}/{username}/repos', headers=headers) # len = 30"
   ]
  },
  {
   "cell_type": "code",
   "execution_count": 53,
   "metadata": {},
   "outputs": [
    {
     "name": "stdout",
     "output_type": "stream",
     "text": [
      "['id',\n",
      " 'node_id',\n",
      " 'name',\n",
      " 'full_name',\n",
      " 'private',\n",
      " 'owner',\n",
      " 'html_url',\n",
      " 'description',\n",
      " 'fork',\n",
      " 'url',\n",
      " 'forks_url',\n",
      " 'keys_url',\n",
      " 'collaborators_url',\n",
      " 'teams_url',\n",
      " 'hooks_url',\n",
      " 'issue_events_url',\n",
      " 'events_url',\n",
      " 'assignees_url',\n",
      " 'branches_url',\n",
      " 'tags_url',\n",
      " 'blobs_url',\n",
      " 'git_tags_url',\n",
      " 'git_refs_url',\n",
      " 'trees_url',\n",
      " 'statuses_url',\n",
      " 'languages_url',\n",
      " 'stargazers_url',\n",
      " 'contributors_url',\n",
      " 'subscribers_url',\n",
      " 'subscription_url',\n",
      " 'commits_url',\n",
      " 'git_commits_url',\n",
      " 'comments_url',\n",
      " 'issue_comment_url',\n",
      " 'contents_url',\n",
      " 'compare_url',\n",
      " 'merges_url',\n",
      " 'archive_url',\n",
      " 'downloads_url',\n",
      " 'issues_url',\n",
      " 'pulls_url',\n",
      " 'milestones_url',\n",
      " 'notifications_url',\n",
      " 'labels_url',\n",
      " 'releases_url',\n",
      " 'deployments_url',\n",
      " 'created_at',\n",
      " 'updated_at',\n",
      " 'pushed_at',\n",
      " 'git_url',\n",
      " 'ssh_url',\n",
      " 'clone_url',\n",
      " 'svn_url',\n",
      " 'homepage',\n",
      " 'size',\n",
      " 'stargazers_count',\n",
      " 'watchers_count',\n",
      " 'language',\n",
      " 'has_issues',\n",
      " 'has_projects',\n",
      " 'has_downloads',\n",
      " 'has_wiki',\n",
      " 'has_pages',\n",
      " 'has_discussions',\n",
      " 'forks_count',\n",
      " 'mirror_url',\n",
      " 'archived',\n",
      " 'disabled',\n",
      " 'open_issues_count',\n",
      " 'license',\n",
      " 'allow_forking',\n",
      " 'is_template',\n",
      " 'web_commit_signoff_required',\n",
      " 'topics',\n",
      " 'visibility',\n",
      " 'forks',\n",
      " 'open_issues',\n",
      " 'watchers',\n",
      " 'default_branch']\n",
      "Total number of keys: 79\n"
     ]
    }
   ],
   "source": [
    "# get length and keys of repo data\n",
    "repo_data_keys = list(repo_response.json()[0].keys()) # len = 79\n",
    "pp(repo_data_keys)\n",
    "print('Total number of keys:', len(repo_data_keys))"
   ]
  },
  {
   "cell_type": "markdown",
   "metadata": {},
   "source": [
    "**Basic Information:**\n",
    "`id`, `node_id`, `name`, `full_name`, `private`, `owner`, `html_url`, `description`, `fork`, `url`, `forks_url`, `keys_url`, `collaborators_url`, `teams_url`, `hooks_url`, `issue_events_url`, `events_url`, `assignees_url`, `branches_url`, `tags_url`, `blobs_url`, `git_tags_url`, `git_refs_url`, `trees_url`, `statuses_url`, `languages_url`\n",
    "\n",
    "**Dates and Timestamps:**\n",
    "`created_at`, `updated_at`, `pushed_at`\n",
    "\n",
    "**Access URLs:**\n",
    "`git_url`, `ssh_url`, `clone_url`, `svn_url`\n",
    "\n",
    "**Branches and Tags:**\n",
    "`default_branch`\n",
    "\n",
    "**Collaboration and Contributors:**\n",
    "`collaborators_url`, `teams_url`, `hooks_url`, `assignees_url`, `subscribers_url`, `contributors_url`\n",
    "\n",
    "**Events and Activities:**\n",
    "`issue_events_url`, `events_url`, `commits_url`, `git_commits_url`, `comments_url`, `issue_comment_url`\n",
    "\n",
    "**Source Code and Contents:**\n",
    "`blobs_url`, `contents_url`, `compare_url`, `merges_url`, `archive_url`, `downloads_url`, `contents_url`\n",
    "\n",
    "**Repository Statistics:**\n",
    "`size`, `stargazers_count`, `watchers_count`, `forks_count`, `open_issues_count`\n",
    "\n",
    "**Features and Settings:**\n",
    "`has_issues`, `has_projects`, `has_downloads`, `has_wiki`, `has_pages`, `has_discussions`, `mirror_url`, `archived`, `disabled`, `allow_forking`, `is_template`, `web_commit_signoff_required`, `visibility`\n",
    "\n",
    "**License Information:**\n",
    "`license`\n",
    "\n",
    "**Topics:**\n",
    "`topics`\n"
   ]
  },
  {
   "cell_type": "code",
   "execution_count": 54,
   "metadata": {},
   "outputs": [
    {
     "name": "stdout",
     "output_type": "stream",
     "text": [
      "{'allow_forking': True,\n",
      " 'archive_url': 'https://api.github.com/repos/esmond-adjei/mit-deep-learning-lex-fridman/{archive_format}{/ref}',\n",
      " 'archived': False,\n",
      " 'assignees_url': 'https://api.github.com/repos/esmond-adjei/mit-deep-learning-lex-fridman/assignees{/user}',\n",
      " 'blobs_url': 'https://api.github.com/repos/esmond-adjei/mit-deep-learning-lex-fridman/git/blobs{/sha}',\n",
      " 'branches_url': 'https://api.github.com/repos/esmond-adjei/mit-deep-learning-lex-fridman/branches{/branch}',\n",
      " 'clone_url': 'https://github.com/esmond-adjei/mit-deep-learning-lex-fridman.git',\n",
      " 'collaborators_url': 'https://api.github.com/repos/esmond-adjei/mit-deep-learning-lex-fridman/collaborators{/collaborator}',\n",
      " 'comments_url': 'https://api.github.com/repos/esmond-adjei/mit-deep-learning-lex-fridman/comments{/number}',\n",
      " 'commits_url': 'https://api.github.com/repos/esmond-adjei/mit-deep-learning-lex-fridman/commits{/sha}',\n",
      " 'compare_url': 'https://api.github.com/repos/esmond-adjei/mit-deep-learning-lex-fridman/compare/{base}...{head}',\n",
      " 'contents_url': 'https://api.github.com/repos/esmond-adjei/mit-deep-learning-lex-fridman/contents/{+path}',\n",
      " 'contributors_url': 'https://api.github.com/repos/esmond-adjei/mit-deep-learning-lex-fridman/contributors',\n",
      " 'created_at': '2023-04-20T13:22:48Z',\n",
      " 'default_branch': 'master',\n",
      " 'deployments_url': 'https://api.github.com/repos/esmond-adjei/mit-deep-learning-lex-fridman/deployments',\n",
      " 'description': 'Tutorials, assignments, and competitions for MIT Deep '\n",
      "                'Learning related courses.',\n",
      " 'disabled': False,\n",
      " 'downloads_url': 'https://api.github.com/repos/esmond-adjei/mit-deep-learning-lex-fridman/downloads',\n",
      " 'events_url': 'https://api.github.com/repos/esmond-adjei/mit-deep-learning-lex-fridman/events',\n",
      " 'fork': True,\n",
      " 'forks': 0,\n",
      " 'forks_count': 0,\n",
      " 'forks_url': 'https://api.github.com/repos/esmond-adjei/mit-deep-learning-lex-fridman/forks',\n",
      " 'full_name': 'esmond-adjei/mit-deep-learning-lex-fridman',\n",
      " 'git_commits_url': 'https://api.github.com/repos/esmond-adjei/mit-deep-learning-lex-fridman/git/commits{/sha}',\n",
      " 'git_refs_url': 'https://api.github.com/repos/esmond-adjei/mit-deep-learning-lex-fridman/git/refs{/sha}',\n",
      " 'git_tags_url': 'https://api.github.com/repos/esmond-adjei/mit-deep-learning-lex-fridman/git/tags{/sha}',\n",
      " 'git_url': 'git://github.com/esmond-adjei/mit-deep-learning-lex-fridman.git',\n",
      " 'has_discussions': False,\n",
      " 'has_downloads': True,\n",
      " 'has_issues': False,\n",
      " 'has_pages': False,\n",
      " 'has_projects': True,\n",
      " 'has_wiki': True,\n",
      " 'homepage': 'https://deeplearning.mit.edu',\n",
      " 'hooks_url': 'https://api.github.com/repos/esmond-adjei/mit-deep-learning-lex-fridman/hooks',\n",
      " 'html_url': 'https://github.com/esmond-adjei/mit-deep-learning-lex-fridman',\n",
      " 'id': 630479871,\n",
      " 'is_template': False,\n",
      " 'issue_comment_url': 'https://api.github.com/repos/esmond-adjei/mit-deep-learning-lex-fridman/issues/comments{/number}',\n",
      " 'issue_events_url': 'https://api.github.com/repos/esmond-adjei/mit-deep-learning-lex-fridman/issues/events{/number}',\n",
      " 'issues_url': 'https://api.github.com/repos/esmond-adjei/mit-deep-learning-lex-fridman/issues{/number}',\n",
      " 'keys_url': 'https://api.github.com/repos/esmond-adjei/mit-deep-learning-lex-fridman/keys{/key_id}',\n",
      " 'labels_url': 'https://api.github.com/repos/esmond-adjei/mit-deep-learning-lex-fridman/labels{/name}',\n",
      " 'language': None,\n",
      " 'languages_url': 'https://api.github.com/repos/esmond-adjei/mit-deep-learning-lex-fridman/languages',\n",
      " 'license': {'key': 'mit',\n",
      "             'name': 'MIT License',\n",
      "             'node_id': 'MDc6TGljZW5zZTEz',\n",
      "             'spdx_id': 'MIT',\n",
      "             'url': 'https://api.github.com/licenses/mit'},\n",
      " 'merges_url': 'https://api.github.com/repos/esmond-adjei/mit-deep-learning-lex-fridman/merges',\n",
      " 'milestones_url': 'https://api.github.com/repos/esmond-adjei/mit-deep-learning-lex-fridman/milestones{/number}',\n",
      " 'mirror_url': None,\n",
      " 'name': 'mit-deep-learning-lex-fridman',\n",
      " 'node_id': 'R_kgDOJZRb_w',\n",
      " 'notifications_url': 'https://api.github.com/repos/esmond-adjei/mit-deep-learning-lex-fridman/notifications{?since,all,participating}',\n",
      " 'open_issues': 0,\n",
      " 'open_issues_count': 0,\n",
      " 'owner': {'avatar_url': 'https://avatars.githubusercontent.com/u/81225469?v=4',\n",
      "           'events_url': 'https://api.github.com/users/esmond-adjei/events{/privacy}',\n",
      "           'followers_url': 'https://api.github.com/users/esmond-adjei/followers',\n",
      "           'following_url': 'https://api.github.com/users/esmond-adjei/following{/other_user}',\n",
      "           'gists_url': 'https://api.github.com/users/esmond-adjei/gists{/gist_id}',\n",
      "           'gravatar_id': '',\n",
      "           'html_url': 'https://github.com/esmond-adjei',\n",
      "           'id': 81225469,\n",
      "           'login': 'esmond-adjei',\n",
      "           'node_id': 'MDQ6VXNlcjgxMjI1NDY5',\n",
      "           'organizations_url': 'https://api.github.com/users/esmond-adjei/orgs',\n",
      "           'received_events_url': 'https://api.github.com/users/esmond-adjei/received_events',\n",
      "           'repos_url': 'https://api.github.com/users/esmond-adjei/repos',\n",
      "           'site_admin': False,\n",
      "           'starred_url': 'https://api.github.com/users/esmond-adjei/starred{/owner}{/repo}',\n",
      "           'subscriptions_url': 'https://api.github.com/users/esmond-adjei/subscriptions',\n",
      "           'type': 'User',\n",
      "           'url': 'https://api.github.com/users/esmond-adjei'},\n",
      " 'private': False,\n",
      " 'pulls_url': 'https://api.github.com/repos/esmond-adjei/mit-deep-learning-lex-fridman/pulls{/number}',\n",
      " 'pushed_at': '2022-11-05T18:59:47Z',\n",
      " 'releases_url': 'https://api.github.com/repos/esmond-adjei/mit-deep-learning-lex-fridman/releases{/id}',\n",
      " 'size': 65478,\n",
      " 'ssh_url': 'git@github.com:esmond-adjei/mit-deep-learning-lex-fridman.git',\n",
      " 'stargazers_count': 0,\n",
      " 'stargazers_url': 'https://api.github.com/repos/esmond-adjei/mit-deep-learning-lex-fridman/stargazers',\n",
      " 'statuses_url': 'https://api.github.com/repos/esmond-adjei/mit-deep-learning-lex-fridman/statuses/{sha}',\n",
      " 'subscribers_url': 'https://api.github.com/repos/esmond-adjei/mit-deep-learning-lex-fridman/subscribers',\n",
      " 'subscription_url': 'https://api.github.com/repos/esmond-adjei/mit-deep-learning-lex-fridman/subscription',\n",
      " 'svn_url': 'https://github.com/esmond-adjei/mit-deep-learning-lex-fridman',\n",
      " 'tags_url': 'https://api.github.com/repos/esmond-adjei/mit-deep-learning-lex-fridman/tags',\n",
      " 'teams_url': 'https://api.github.com/repos/esmond-adjei/mit-deep-learning-lex-fridman/teams',\n",
      " 'topics': [],\n",
      " 'trees_url': 'https://api.github.com/repos/esmond-adjei/mit-deep-learning-lex-fridman/git/trees{/sha}',\n",
      " 'updated_at': '2023-04-20T13:22:48Z',\n",
      " 'url': 'https://api.github.com/repos/esmond-adjei/mit-deep-learning-lex-fridman',\n",
      " 'visibility': 'public',\n",
      " 'watchers': 0,\n",
      " 'watchers_count': 0,\n",
      " 'web_commit_signoff_required': False}\n"
     ]
    }
   ],
   "source": [
    "pp(repo_response.json()[21])"
   ]
  },
  {
   "cell_type": "code",
   "execution_count": 55,
   "metadata": {},
   "outputs": [
    {
     "name": "stdout",
     "output_type": "stream",
     "text": [
      "{'Python': 60336, 'HTML': 19352, 'CSS': 8819}\n"
     ]
    }
   ],
   "source": [
    "# project languages\n",
    "repo_languages = requests.get(repo_response.json()[0]['languages_url'], headers=headers)\n",
    "print(repo_languages.json())"
   ]
  },
  {
   "cell_type": "code",
   "execution_count": 56,
   "metadata": {},
   "outputs": [
    {
     "name": "stdout",
     "output_type": "stream",
     "text": [
      "AirBnB_clone main\n",
      "https://api.github.com/users/esmond-adjei/AirBnB_clone/branches/main\n",
      "N/A\n"
     ]
    }
   ],
   "source": [
    "def get_total_commit(BASE_URL, repo_name, repo_branch):\n",
    "    # get total commits for a repo\n",
    "    commit_url = f'{BASE_URL}/{username}/{repo_name}/branches/{repo_branch}'\n",
    "    print(commit_url)\n",
    "    commit_response = requests.get(commit_url, headers=headers)\n",
    "    if commit_response.status_code == 200:\n",
    "        commit_info = commit_response.json()\n",
    "        print(commit_info)\n",
    "        total_commits = commit_info['commit']['commit']['committer']['name']\n",
    "    else:\n",
    "        total_commits = \"N/A\"\n",
    "    return total_commits\n",
    "\n",
    "repo_name = repo_response.json()[0]['name']\n",
    "repo_branch = repo_response.json()[0]['default_branch']\n",
    "print(repo_name, repo_branch)\n",
    "commit = get_total_commit(USER_BASE_URL, repo_name, repo_branch)\n",
    "print(commit)"
   ]
  },
  {
   "cell_type": "code",
   "execution_count": 57,
   "metadata": {},
   "outputs": [],
   "source": [
    "def calculate_duration(timestamp1, timestamp2):\n",
    "    # calculate duration between two timestamps in days and hours\n",
    "    dt1 = datetime.fromisoformat(timestamp1)\n",
    "    dt2 = datetime.fromisoformat(timestamp2)\n",
    "    duration = dt2 - dt1\n",
    "    days = duration.days\n",
    "    seconds = duration.seconds\n",
    "    hours = seconds // 3600\n",
    "    formatted_duration = f\"{days} days, {hours} hrs\"\n",
    "\n",
    "    return formatted_duration\n",
    "\n",
    "\n",
    "def tabluate_repo_data(repos):\n",
    "    # tabulate repo data\n",
    "    repo_data = []\n",
    "    for repo in repos:\n",
    "        repo_info = {\n",
    "            'Repo Name': repo['name'],\n",
    "            'Owner': repo['owner']['login'],\n",
    "            'Total Commits': repo['default_branch'],\n",
    "            'Language': repo['language'],\n",
    "            'Created At': repo['created_at'],\n",
    "            'Updated At': repo['updated_at'],\n",
    "            'Duration': calculate_duration(repo['created_at'], repo['updated_at']),\n",
    "            'Stars': repo['stargazers_count'],\n",
    "            'Forks': repo['forks_count']\n",
    "        }\n",
    "        repo_data.append(repo_info)\n",
    "\n",
    "    table = tabulate(repo_data, headers='keys', tablefmt='pretty')\n",
    "    print(table)\n"
   ]
  },
  {
   "cell_type": "code",
   "execution_count": 58,
   "metadata": {},
   "outputs": [
    {
     "name": "stdout",
     "output_type": "stream",
     "text": [
      "+-------------------------------+--------------+---------------+------------+----------------------+----------------------+------------------+-------+-------+\n",
      "|           Repo Name           |    Owner     | Total Commits |  Language  |      Created At      |      Updated At      |     Duration     | Stars | Forks |\n",
      "+-------------------------------+--------------+---------------+------------+----------------------+----------------------+------------------+-------+-------+\n",
      "|         AirBnB_clone          | esmond-adjei |     main      |   Python   | 2023-05-09T17:15:55Z | 2023-05-09T17:51:05Z |  0 days, 0 hrs   |   0   |   1   |\n",
      "|        AirBnB_clone_v2        | esmond-adjei |    master     |   Python   | 2023-09-11T02:24:45Z | 2023-09-11T02:27:35Z |  0 days, 0 hrs   |   0   |   0   |\n",
      "|        AirBnB_clone_v3        | esmond-adjei |    master     |   Python   | 2023-09-28T17:10:47Z | 2023-09-28T17:20:57Z |  0 days, 0 hrs   |   0   |   0   |\n",
      "|        AirBnB_clone_v4        | esmond-adjei |     main      |   Python   | 2023-10-06T01:54:40Z | 2023-10-06T01:56:17Z |  0 days, 0 hrs   |   0   |   1   |\n",
      "| alx-higher_level_programming  | esmond-adjei |     main      |   Python   | 2023-03-07T19:44:46Z | 2023-03-16T01:36:03Z |  8 days, 5 hrs   |   0   |   0   |\n",
      "|   alx-low_level_programming   | esmond-adjei |     main      |     C      | 2022-12-09T02:02:31Z | 2022-12-09T02:04:01Z |  0 days, 0 hrs   |   0   |   0   |\n",
      "|        alx-pre_course         | esmond-adjei |     main      |            | 2022-11-22T01:35:54Z | 2022-11-22T04:25:47Z |  0 days, 2 hrs   |   0   |   0   |\n",
      "| alx-system_engineering-devops | esmond-adjei |     main      |   Shell    | 2022-11-29T17:07:59Z | 2022-11-29T17:09:57Z |  0 days, 0 hrs   |   0   |   0   |\n",
      "|         alx-zero_day          | esmond-adjei |     main      |   Shell    | 2022-11-29T15:38:04Z | 2022-11-29T16:07:45Z |  0 days, 0 hrs   |   0   |   0   |\n",
      "|    Bank-Administration-App    | esmond-adjei |     main      |   Python   | 2022-08-20T17:22:17Z | 2022-08-28T19:25:04Z |  8 days, 2 hrs   |   0   |   0   |\n",
      "|         binary_trees          | esmond-adjei |     main      |     C      | 2023-05-30T01:17:13Z | 2023-05-30T01:54:23Z |  0 days, 0 hrs   |   0   |   0   |\n",
      "|        coding-workout         | esmond-adjei |     main      |   Python   | 2022-08-12T14:09:12Z | 2023-01-29T19:36:15Z | 170 days, 5 hrs  |   1   |   0   |\n",
      "|   command_line_for_the_win    | esmond-adjei |     main      |            | 2023-04-23T10:06:53Z | 2023-04-23T10:06:53Z |  0 days, 0 hrs   |   0   |   0   |\n",
      "|        django-todo-app        | esmond-adjei |     main      |   Python   | 2023-08-13T02:21:32Z | 2023-08-13T02:32:04Z |  0 days, 0 hrs   |   0   |   0   |\n",
      "|         esmond-adjei          | esmond-adjei |     main      |            | 2023-01-29T12:03:47Z | 2023-01-29T12:03:47Z |  0 days, 0 hrs   |   0   |   0   |\n",
      "|     Fix_My_Code_Challenge     | esmond-adjei |     main      | JavaScript | 2023-05-22T02:29:08Z | 2023-09-11T04:21:29Z | 112 days, 1 hrs  |   0   |   0   |\n",
      "|    forage-jpmc-swe-task-1     | esmond-adjei |     main      |            | 2023-10-22T01:24:30Z | 2023-10-22T01:24:30Z |  0 days, 0 hrs   |   0   |   0   |\n",
      "|   forage-lyft-starter-repo    | esmond-adjei |     main      |   Python   | 2023-10-16T17:50:18Z | 2023-10-23T22:15:04Z |  7 days, 4 hrs   |   1   |   0   |\n",
      "|       hnh-accommodation       | esmond-adjei |     main      | JavaScript | 2023-06-08T23:01:52Z | 2023-07-18T01:42:09Z |  39 days, 2 hrs  |   0   |   0   |\n",
      "|          hnh-backend          | esmond-adjei |     main      |   Python   | 2023-06-16T11:52:32Z | 2023-06-16T12:13:05Z |  0 days, 0 hrs   |   0   |   0   |\n",
      "|          linux-stuff          | esmond-adjei |    master     |   Shell    | 2023-01-23T23:29:46Z | 2023-01-23T23:31:06Z |  0 days, 0 hrs   |   0   |   0   |\n",
      "| mit-deep-learning-lex-fridman | esmond-adjei |    master     |            | 2023-04-20T13:22:48Z | 2023-04-20T13:22:48Z |  0 days, 0 hrs   |   0   |   0   |\n",
      "|             monty             | esmond-adjei |    master     |     C      | 2023-03-23T14:17:50Z | 2023-03-23T14:23:23Z |  0 days, 0 hrs   |   0   |   0   |\n",
      "|      online-web-scraper       | esmond-adjei |     main      | JavaScript | 2023-05-18T18:35:00Z | 2023-09-24T14:54:47Z | 128 days, 20 hrs |   0   |   0   |\n",
      "|         pharmacy-shop         | esmond-adjei |     main      |   Python   | 2023-08-29T16:46:19Z | 2023-08-29T16:49:58Z |  0 days, 0 hrs   |   0   |   0   |\n",
      "|       portfolio-website       | esmond-adjei |     main      | JavaScript | 2023-05-07T15:19:43Z | 2023-07-19T22:20:58Z |  73 days, 7 hrs  |   0   |   0   |\n",
      "|            printf             | esmond-adjei |    master     |     C      | 2023-01-22T19:38:13Z | 2023-01-25T01:36:56Z |  2 days, 5 hrs   |   0   |   0   |\n",
      "| python-fun-from-patrickloeber | esmond-adjei |    master     |            | 2023-09-13T23:33:02Z | 2023-09-13T23:33:02Z |  0 days, 0 hrs   |   0   |   0   |\n",
      "|     qr-code-ticket-system     | esmond-adjei |     main      |            | 2023-07-13T12:32:23Z | 2023-07-13T12:32:24Z |  0 days, 0 hrs   |   0   |   0   |\n",
      "|       react-calculator        | esmond-adjei |     main      |    CSS     | 2023-01-19T01:24:31Z | 2023-05-07T16:50:22Z | 108 days, 15 hrs |   0   |   0   |\n",
      "+-------------------------------+--------------+---------------+------------+----------------------+----------------------+------------------+-------+-------+\n"
     ]
    }
   ],
   "source": [
    "tabluate_repo_data(repo_response.json())"
   ]
  },
  {
   "cell_type": "markdown",
   "metadata": {},
   "source": [
    "# INTERESTS\n",
    "\n",
    "| What to Measure                 | How to Measure It                   | Why It's Important                             |\n",
    "|--------------------------------|-------------------------------------|-------------------------------------------------|\n",
    "| Problem-Solving Skills         | Assess the complexity and effectiveness of solutions implemented in their code. Analyze code changes related to problem-solving tasks. | Indicates their ability to solve coding challenges effectively. |\n",
    "| Use of Technologies            | Analyze the programming languages and frameworks used in repositories. Quantify technology usage based on commits and file types. | Reflects their proficiency in different technologies and stacks. |\n",
    "| Learning and Growth            | Analyze repositories for updates, technology changes, and the addition of new features or improvements. | Demonstrates their adaptability and commitment to growth. |\n",
    "| Adaptability                   | Analyze the variety of programming languages and frameworks used in repositories. Quantify proficiency in each technology. | Reflects their ability to adapt to different tech stacks and learn new skills. |"
   ]
  }
 ],
 "metadata": {
  "kernelspec": {
   "display_name": "Python 3",
   "language": "python",
   "name": "python3"
  },
  "language_info": {
   "codemirror_mode": {
    "name": "ipython",
    "version": 3
   },
   "file_extension": ".py",
   "mimetype": "text/x-python",
   "name": "python",
   "nbconvert_exporter": "python",
   "pygments_lexer": "ipython3",
   "version": "3.12.0"
  }
 },
 "nbformat": 4,
 "nbformat_minor": 2
}
